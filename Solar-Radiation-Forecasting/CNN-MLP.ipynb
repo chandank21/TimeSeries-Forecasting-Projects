{
  "cells": [
    {
      "cell_type": "code",
      "execution_count": null,
      "metadata": {
        "id": "c09dd3c6"
      },
      "outputs": [],
      "source": [
        "import numpy as np\n",
        "import pandas as pd\n",
        "from sklearn.preprocessing import MinMaxScaler\n",
        "from sklearn.metrics import explained_variance_score, mean_squared_error,mean_absolute_error,mean_absolute_percentage_error\n",
        "import matplotlib.pyplot as plt\n",
        "from keras.models import Sequential\n",
        "from keras.layers import Dense,Flatten\n",
        "from keras.layers.convolutional import Conv1D,MaxPooling1D\n",
        "from keras.callbacks import ModelCheckpoint\n",
        "from keras.losses import MeanSquaredError\n",
        "from keras.metrics import RootMeanSquaredError\n",
        "from tensorflow.keras.optimizers import Adam,RMSprop,Adadelta,Adagrad,Adamax,Nadam\n",
        "from keras.models import load_model\n",
        "import seaborn as sns"
      ],
      "id": "c09dd3c6"
    },
    {
      "cell_type": "code",
      "execution_count": null,
      "metadata": {
        "id": "37ca39f2"
      },
      "outputs": [],
      "source": [
        "def series_to_supervised(data_np,n_lags,n_outs):\n",
        "    samples = len(data_np)-(n_lags+n_outs-1)\n",
        "    Inputs = []\n",
        "    Targets = np.empty((samples,n_outs))\n",
        "    for i in range(samples):\n",
        "        step = i+n_lags\n",
        "        sample = data_np[i:step]\n",
        "        Inputs.append(sample)\n",
        "        label = data_np[step:(step+n_outs)]\n",
        "        j = 0\n",
        "        for a in label:\n",
        "            Targets[i,j] = a\n",
        "            j = j+1\n",
        "    return np.array(Inputs),Targets"
      ],
      "id": "37ca39f2"
    },
    {
      "cell_type": "code",
      "execution_count": null,
      "metadata": {
        "id": "b0de886e"
      },
      "outputs": [],
      "source": [
        "def plot_model_history(model_summary):\n",
        "    plt.plot(model_summary.history['loss'])\n",
        "    plt.plot(model_summary.history['val_loss'])\n",
        "    plt.title('model loss')\n",
        "    plt.ylabel('loss')\n",
        "    plt.xlabel('epoch')\n",
        "    plt.legend(['train','test'],loc='upper right')\n",
        "    plt.show()"
      ],
      "id": "b0de886e"
    },
    {
      "cell_type": "code",
      "execution_count": null,
      "metadata": {
        "id": "AuoC3imuZjfU",
        "outputId": "616a24ee-3fb4-4fb7-baab-65757619a1fd",
        "colab": {
          "base_uri": "https://localhost:8080/"
        }
      },
      "outputs": [
        {
          "output_type": "stream",
          "name": "stdout",
          "text": [
            "Drive already mounted at /content/drive; to attempt to forcibly remount, call drive.mount(\"/content/drive\", force_remount=True).\n"
          ]
        }
      ],
      "source": [
        "from google.colab import drive\n",
        "drive.mount('/content/drive')"
      ],
      "id": "AuoC3imuZjfU"
    },
    {
      "cell_type": "code",
      "execution_count": null,
      "metadata": {
        "id": "83d12675"
      },
      "outputs": [],
      "source": [
        "dataset = pd.read_csv(\"/content/drive/MyDrive/m.tech project solar/weather_2017+2018_hourly.csv\")\n",
        "data_as_np = dataset.GHI.values"
      ],
      "id": "83d12675"
    },
    {
      "cell_type": "code",
      "execution_count": null,
      "metadata": {
        "id": "f8bbc77b"
      },
      "outputs": [],
      "source": [
        "# fit a model\n",
        "def create_model(input_shape,n_outs,train_x,train_y,test_x,test_y,rate):\n",
        "\n",
        "    # define model\n",
        "    model = Sequential()\n",
        "    model.add(Conv1D(100, 3, activation='relu', input_shape=input_shape))\n",
        "    model.add(Conv1D(64, 3, activation='relu'))\n",
        "    model.add(MaxPooling1D())\n",
        "    model.add(Flatten())\n",
        "    model.add(Dense(n_outs))\n",
        "\n",
        "    cp1 = ModelCheckpoint('CNN/', save_best_only = True)\n",
        "    model.compile(loss='mse', optimizer= adam(learning_rate=rate), metrics=[RootMeanSquaredError()])\n",
        "    model_summary = model.fit(train_x, train_y, validation_data = (test_x,test_y), epochs = 80, batch_size = 64, callbacks=[cp1])\n",
        "    plot_model_history(model_summary)\n",
        "\n",
        "    model = load_model('CNN/')\n",
        "\n",
        "    return model"
      ],
      "id": "f8bbc77b"
    },
    {
      "cell_type": "code",
      "execution_count": null,
      "metadata": {
        "id": "7bec5dcb"
      },
      "outputs": [],
      "source": [
        "data_np = data_as_np.reshape(-1,1)\n",
        "n_lags = 480\n",
        "n_out = 24\n",
        "\n",
        "# Prepare data\n",
        "Inputs,Targets = series_to_supervised(data_np,n_lags,n_out)\n",
        "\n",
        "Inputs_model, Targets_model = Inputs[:-10], Targets[:-10]\n",
        "Inputs_plot, Targets_plot = Inputs[-10:], Targets[-10:]\n",
        "\n",
        "no_samples = Targets_model.shape[0]\n",
        "split = int(0.3 * no_samples)\n",
        "\n",
        "features = 1\n",
        "n_input = n_lags * features\n",
        "\n",
        "# Splitting data into train and test data set\n",
        "Inputs_model = Inputs_model.reshape((no_samples,n_input))\n",
        "\n",
        "train_x,train_y = Inputs_model[:-split],Targets_model[:-split]\n",
        "test_x,test_y = Inputs_model[-split:],Targets_model[-split:]"
      ],
      "id": "7bec5dcb"
    },
    {
      "cell_type": "code",
      "execution_count": null,
      "metadata": {
        "id": "FiXTdlgnX_PA"
      },
      "outputs": [],
      "source": [
        "def rmse_error(pred,y):\n",
        "  return np.sqrt(mean_squared_error(pred,y))"
      ],
      "id": "FiXTdlgnX_PA"
    },
    {
      "cell_type": "code",
      "execution_count": null,
      "metadata": {
        "id": "wLWtw9JohKk-"
      },
      "outputs": [],
      "source": [
        "from google.colab import drive\n",
        "drive.mount('/content/drive')"
      ],
      "id": "wLWtw9JohKk-"
    },
    {
      "cell_type": "markdown",
      "metadata": {
        "id": "cINco7ZVh-Aj"
      },
      "source": [
        "# New Section"
      ],
      "id": "cINco7ZVh-Aj"
    },
    {
      "cell_type": "code",
      "execution_count": null,
      "metadata": {
        "id": "363f8473"
      },
      "outputs": [],
      "source": [
        "# predicted values\n",
        "predicted = model.predict(Inputs_plot)\n",
        "actual = Targets_plot"
      ],
      "id": "363f8473"
    },
    {
      "cell_type": "code",
      "execution_count": null,
      "metadata": {
        "id": "4b36637a"
      },
      "outputs": [],
      "source": [
        "# Next 1 day plotting\n",
        "comp_df = pd.DataFrame({\"actual\":actual[0].flatten(),\"predicted\":predicted[0].flatten()})\n",
        "sns.lineplot(data = comp_df)"
      ],
      "id": "4b36637a"
    },
    {
      "cell_type": "code",
      "execution_count": null,
      "metadata": {
        "id": "111754a4"
      },
      "outputs": [],
      "source": [
        "# Next 2 day prediction\n",
        "comp_df = pd.DataFrame({\"actual\":actual[0:2].flatten(),\"predicted\":predicted[0:2].flatten()})\n",
        "sns.lineplot(data = comp_df)"
      ],
      "id": "111754a4"
    },
    {
      "cell_type": "code",
      "execution_count": null,
      "metadata": {
        "id": "128c68ed"
      },
      "outputs": [],
      "source": [
        "# Next 7 day prediction\n",
        "comp_df = pd.DataFrame({\"actual\":actual[0:7].flatten(),\"predicted\":predicted[0:7].flatten()})\n",
        "sns.lineplot(data = comp_df)"
      ],
      "id": "128c68ed"
    },
    {
      "cell_type": "code",
      "execution_count": null,
      "metadata": {
        "id": "njyTMGtjFwS6"
      },
      "outputs": [],
      "source": [
        "train_pred, test_pred = model.predict(train_x),model.predict(test_x)"
      ],
      "id": "njyTMGtjFwS6"
    },
    {
      "cell_type": "code",
      "execution_count": null,
      "metadata": {
        "id": "wLW0argcJCt3"
      },
      "outputs": [],
      "source": [
        "from sklearn.metrics import r2_score"
      ],
      "id": "wLW0argcJCt3"
    },
    {
      "cell_type": "code",
      "execution_count": null,
      "metadata": {
        "id": "XefLhpfTBfrO"
      },
      "outputs": [],
      "source": [
        "# Performance matrix on training set\n",
        "{'explained_variance_score':r2_score(train_pred,train_y),\n",
        "      'mean_squared_error':mean_squared_error(train_pred,train_y),\n",
        "          'mean_absolute_error':mean_absolute_error(train_pred,train_y)\n",
        "}\n",
        ""
      ],
      "id": "XefLhpfTBfrO"
    },
    {
      "cell_type": "code",
      "execution_count": null,
      "metadata": {
        "id": "sHUKfx3KBpzh"
      },
      "outputs": [],
      "source": [
        "#Performance matrix on test set\n",
        "{'explained_variance_score':r2_score(test_pred,test_y),\n",
        "    'mean_squared_error':mean_squared_error(test_pred,test_y),\n",
        "          'mean_absolute_error':mean_absolute_error(test_pred,test_y)\n",
        "}\n",
        ""
      ],
      "id": "sHUKfx3KBpzh"
    }
  ],
  "metadata": {
    "colab": {
      "provenance": []
    },
    "kernelspec": {
      "display_name": "Python 3 (ipykernel)",
      "language": "python",
      "name": "python3"
    },
    "language_info": {
      "codemirror_mode": {
        "name": "ipython",
        "version": 3
      },
      "file_extension": ".py",
      "mimetype": "text/x-python",
      "name": "python",
      "nbconvert_exporter": "python",
      "pygments_lexer": "ipython3",
      "version": "3.9.13"
    }
  },
  "nbformat": 4,
  "nbformat_minor": 5
}