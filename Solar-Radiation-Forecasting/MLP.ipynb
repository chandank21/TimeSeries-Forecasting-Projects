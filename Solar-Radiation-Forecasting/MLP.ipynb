{
  "cells": [
    {
      "cell_type": "code",
      "execution_count": null,
      "metadata": {
        "id": "2911ca88"
      },
      "outputs": [],
      "source": [
        "import numpy as np\n",
        "import pandas as pd\n",
        "from sklearn.preprocessing import MinMaxScaler\n",
        "from sklearn.metrics import r2_score, mean_squared_error,mean_absolute_error,mean_absolute_percentage_error\n",
        "import seaborn as sns\n",
        "import matplotlib.pyplot as plt\n",
        "from keras.models import Sequential\n",
        "from keras.layers import Dense\n",
        "from keras.callbacks import ModelCheckpoint\n",
        "from keras.losses import MeanSquaredError\n",
        "from keras.metrics import RootMeanSquaredError\n",
        "from tensorflow.keras.optimizers import Adam,RMSprop,Adadelta,Adagrad,Adamax,Nadam\n",
        "from keras.models import load_model"
      ],
      "id": "2911ca88"
    },
    {
      "cell_type": "code",
      "execution_count": null,
      "metadata": {
        "colab": {
          "base_uri": "https://localhost:8080/"
        },
        "id": "bus1DnJgfVYD",
        "outputId": "5a1c713d-1d27-4b6c-e286-70b1a58ba03c"
      },
      "outputs": [
        {
          "name": "stdout",
          "output_type": "stream",
          "text": [
            "Mounted at /content/drive\n"
          ]
        }
      ],
      "source": [
        "from google.colab import drive\n",
        "drive.mount('/content/drive')"
      ],
      "id": "bus1DnJgfVYD"
    },
    {
      "cell_type": "code",
      "execution_count": null,
      "metadata": {
        "id": "230f2516"
      },
      "outputs": [],
      "source": [
        "dataset = pd.read_csv(\"/content/drive/MyDrive/m.tech project solar/weather_2017+2018_hourly.csv\")\n",
        "data_as_np = dataset.GHI.values"
      ],
      "id": "230f2516"
    },
    {
      "cell_type": "code",
      "execution_count": null,
      "metadata": {
        "id": "e08a40b0"
      },
      "outputs": [],
      "source": [
        "def series_to_supervised(data_np,n_lags,n_outs):\n",
        "    samples = len(data_np)-(n_lags+n_outs-1)\n",
        "    Inputs = []\n",
        "    Targets = np.empty((samples,n_outs))\n",
        "    for i in range(samples):\n",
        "        step = i+n_lags\n",
        "        sample = data_np[i:step]\n",
        "        Inputs.append(sample)\n",
        "        label = data_np[step:(step+n_outs)]\n",
        "        j = 0\n",
        "        for a in label:\n",
        "            Targets[i,j] = a\n",
        "            j = j+1\n",
        "    return np.array(Inputs),Targets\n"
      ],
      "id": "e08a40b0"
    },
    {
      "cell_type": "code",
      "execution_count": null,
      "metadata": {
        "id": "209a6d45"
      },
      "outputs": [],
      "source": [
        "def plot_model_history(model_summary):\n",
        "    plt.plot(model_summary.history['loss'])\n",
        "    plt.plot(model_summary.history['val_loss'])\n",
        "    plt.title('model loss')\n",
        "    plt.ylabel('loss')\n",
        "    plt.xlabel('epoch')\n",
        "    plt.legend(['train','test'],loc='upper right')\n",
        "    plt.show()"
      ],
      "id": "209a6d45"
    },
    {
      "cell_type": "markdown",
      "metadata": {
        "id": "81Yg63TimzJU"
      },
      "source": [
        "Optimizers...\n",
        "\n",
        "class *Adadelta*: Optimizer that implements the Adadelta algorithm.\n",
        "\n",
        "class *Adagrad*: Optimizer that implements the Adagrad algorithm.\n",
        "\n",
        "class *Adam*: Optimizer that implements the Adam algorithm.\n",
        "\n",
        "class *Adamax*: Optimizer that implements the Adamax algorithm.\n",
        "\n",
        "class *Ftrl*: Optimizer that implements the FTRL algorithm.\n",
        "\n",
        "class *Nadam*: Optimizer that implements the Nadam algorithm.\n",
        "\n",
        "class *Optimizer*: Abstract optimizer base class.\n",
        "\n",
        "class *RMSprop*: Optimizer that implements the RMSprop algorithm.\n",
        "\n",
        "class *SGD*: Gradient descent (with momentum) optimizer."
      ],
      "id": "81Yg63TimzJU"
    },
    {
      "cell_type": "markdown",
      "metadata": {
        "id": "32iJzqzy9cIn"
      },
      "source": [
        "Activation functions.. [link text](https://keras.io/api/layers/activations/)\n"
      ],
      "id": "32iJzqzy9cIn"
    },
    {
      "cell_type": "code",
      "execution_count": null,
      "metadata": {
        "id": "3b5ef309"
      },
      "outputs": [],
      "source": [
        "# fit a model\n",
        "def create_model(n_input,n_out, train_x,train_y,test_x,test_y,rate):\n",
        "\n",
        "    # define model\n",
        "    model = Sequential()\n",
        "    model.add(Dense(100, activation='relu',  input_dim=n_input))\n",
        "    model.add(Dense(64, activation='relu'))\n",
        "    model.add(Dense(n_out, activation='relu'))\n",
        "\n",
        "    cp1 = ModelCheckpoint('MLPs/', save_best_only = True)\n",
        "    model.compile(loss='mse', optimizer=  RMSprop(learning_rate=rate), metrics=[RootMeanSquaredError()])\n",
        "    model_summary = model.fit(train_x, train_y, validation_data = (test_x,test_y), epochs=80, batch_size=64, callbacks=[cp1])\n",
        "    plot_model_history(model_summary)\n",
        "\n",
        "    model = load_model('MLPs/')\n",
        "\n",
        "    return model\n",
        "\n"
      ],
      "id": "3b5ef309"
    },
    {
      "cell_type": "code",
      "execution_count": null,
      "metadata": {
        "id": "fhu_KVNjkYj2"
      },
      "outputs": [],
      "source": [
        "data_np = data_as_np.reshape(-1,1)\n",
        "n_lags = 480\n",
        "n_out = 24\n",
        "\n",
        "# Prepare data\n",
        "Inputs,Targets = series_to_supervised(data_np,n_lags,n_out)\n",
        "\n",
        "Inputs_model, Targets_model = Inputs[:-10], Targets[:-10]\n",
        "Inputs_plot, Targets_plot = Inputs[-10:], Targets[-10:]\n",
        "\n",
        "no_samples = Targets_model.shape[0]\n",
        "split = int(0.3 * no_samples)\n",
        "\n",
        "features = 1\n",
        "n_input = n_lags * features\n",
        "\n",
        "# Splitting data into train and test data set\n",
        "Inputs_model = Inputs_model.reshape((no_samples,n_input))\n",
        "\n",
        "train_x,train_y = Inputs_model[:-split],Targets_model[:-split]\n",
        "test_x,test_y = Inputs_model[-split:],Targets_model[-split:]\n",
        "\n"
      ],
      "id": "fhu_KVNjkYj2"
    },
    {
      "cell_type": "code",
      "execution_count": null,
      "metadata": {
        "id": "Uifa1TsyjS5-"
      },
      "outputs": [],
      "source": [
        "def rmse_error(pred,y):\n",
        "  return np.sqrt(mean_squared_error(pred,y))"
      ],
      "id": "Uifa1TsyjS5-"
    },
    {
      "cell_type": "code",
      "execution_count": null,
      "metadata": {
        "colab": {
          "background_save": true
        },
        "id": "Su_5iy1YbwI9"
      },
      "outputs": [],
      "source": [
        "learning_rate = [pow(10,x) for x in range(-2,-6,-1)]\n",
        "estimators = 30\n",
        "rmse = []\n",
        "for rate in learning_rate:\n",
        "  train_rmse_error, test_rmse_error = 0, 0\n",
        "  for iter in range(estimators):\n",
        "    model = create_model(n_input,n_out,train_x,train_y,test_x,test_y,rate)\n",
        "\n",
        "    train_pred, test_pred = model.predict(train_x),model.predict(test_x)\n",
        "\n",
        "    train_rmse_error +=  rmse_error(train_pred,train_y)\n",
        "    test_rmse_error +=  rmse_error(test_pred,test_y)\n",
        "\n",
        "  train_rmse_error, test_rmse_error = train_rmse_error/estimators, test_rmse_error/estimators\n",
        "  rmse.append([rate,train_rmse_error,test_rmse_error])"
      ],
      "id": "Su_5iy1YbwI9"
    },
    {
      "cell_type": "code",
      "execution_count": null,
      "metadata": {
        "id": "41f9d48e"
      },
      "outputs": [],
      "source": [
        "# predicted values\n",
        "predicted = model.predict(Inputs_plot)\n",
        "actual = Targets_plot"
      ],
      "id": "41f9d48e"
    },
    {
      "cell_type": "code",
      "execution_count": null,
      "metadata": {
        "id": "d84ba08a"
      },
      "outputs": [],
      "source": [
        "# Next 1 day plotting\n",
        "comp_df = pd.DataFrame({\"actual\":actual[0].flatten(),\"predicted\":predicted[0].flatten()})\n",
        "sns.lineplot(data = comp_df, legend=\"full\")"
      ],
      "id": "d84ba08a"
    },
    {
      "cell_type": "code",
      "execution_count": null,
      "metadata": {
        "id": "84be4fba"
      },
      "outputs": [],
      "source": [
        "# Next 2 day plotting\n",
        "comp_df = pd.DataFrame({\"actual\":actual[0:2].flatten(),\"predicted\":predicted[0:2].flatten()})\n",
        "sns.lineplot(data = comp_df)"
      ],
      "id": "84be4fba"
    },
    {
      "cell_type": "code",
      "execution_count": null,
      "metadata": {
        "id": "67ff8c69"
      },
      "outputs": [],
      "source": [
        "# Next 7 day plotting\n",
        "comp_df = pd.DataFrame({\"actual\":actual[0:7].flatten(),\"predicted\":predicted[0:7].flatten()})\n",
        "sns.lineplot(data = comp_df)"
      ],
      "id": "67ff8c69"
    },
    {
      "cell_type": "code",
      "execution_count": null,
      "metadata": {
        "id": "4bdaab33"
      },
      "outputs": [],
      "source": [
        "train_pred, test_pred = model.predict(train_x),model.predict(test_x)"
      ],
      "id": "4bdaab33"
    },
    {
      "cell_type": "code",
      "execution_count": null,
      "metadata": {
        "id": "_GP_mLk2aw28"
      },
      "outputs": [],
      "source": [
        "# Performance matrix on training set\n",
        "{'explained_variance_score':r2_score(train_pred,train_y),\n",
        "      'mean_squared_error':mean_squared_error(train_pred,train_y),\n",
        "          'mean_absolute_error':mean_absolute_error(train_pred,train_y)\n",
        "}\n",
        ""
      ],
      "id": "_GP_mLk2aw28"
    },
    {
      "cell_type": "code",
      "execution_count": null,
      "metadata": {
        "id": "Zam7f_uda3wz"
      },
      "outputs": [],
      "source": [
        "#Performance matrix on test set\n",
        "{'explained_variance_score':r2_score(test_pred,test_y),\n",
        "    'mean_squared_error':mean_squared_error(test_pred,test_y),\n",
        "          'mean_absolute_error':mean_absolute_error(test_pred,test_y)}\n",
        ""
      ],
      "id": "Zam7f_uda3wz"
    }
  ],
  "metadata": {
    "colab": {
      "provenance": []
    },
    "kernelspec": {
      "display_name": "Python 3 (ipykernel)",
      "language": "python",
      "name": "python3"
    },
    "language_info": {
      "codemirror_mode": {
        "name": "ipython",
        "version": 3
      },
      "file_extension": ".py",
      "mimetype": "text/x-python",
      "name": "python",
      "nbconvert_exporter": "python",
      "pygments_lexer": "ipython3",
      "version": "3.9.13"
    }
  },
  "nbformat": 4,
  "nbformat_minor": 5
}